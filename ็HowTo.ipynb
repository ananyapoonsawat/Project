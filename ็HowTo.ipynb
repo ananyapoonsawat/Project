{
  "nbformat": 4,
  "nbformat_minor": 0,
  "metadata": {
    "colab": {
      "provenance": [],
      "authorship_tag": "ABX9TyMZUus0TqlMv2P/YBtubVVI",
      "include_colab_link": true
    },
    "kernelspec": {
      "name": "python3",
      "display_name": "Python 3"
    },
    "language_info": {
      "name": "python"
    }
  },
  "cells": [
    {
      "cell_type": "markdown",
      "metadata": {
        "id": "view-in-github",
        "colab_type": "text"
      },
      "source": [
        "<a href=\"https://colab.research.google.com/github/ananyapoonsawat/Project/blob/main/%E0%B9%87HowTo.ipynb\" target=\"_parent\"><img src=\"https://colab.research.google.com/assets/colab-badge.svg\" alt=\"Open In Colab\"/></a>"
      ]
    },
    {
      "cell_type": "markdown",
      "source": [
        "#Express Accounting Program"
      ],
      "metadata": {
        "id": "0bIjP_33bNjQ"
      }
    },
    {
      "cell_type": "markdown",
      "source": [
        "ข้อมูลเบื้องต้นเกี่ยวกับ Express โปรแกรมบัญชี\n",
        "เป็นโปรแกรมบัญชีที่พัฒนาโดยคนไทยใช้ในการจัดการงานด้านบัญชีและการเงิน เช่น บันทึกบัญชีทั่วไป(GL) เจ้าหนี้(AP)/ลูกหนี้(AR) สต็อกสินค้า ภาษีซื้อ-ขาย งบการเงิน ฯลฯ รองรับระบบบัญชีตามมาตรฐานของกรมสรรพากร\n",
        "\n",
        "โปรแกรม Express ถูกออกแบบมาให้ ใช้งานง่าย สำหรับธุรกิจไทย มีเมนูภาษาไทย และรูปแบบหน้าจอที่เข้าใจง่าย ถึงแม้หน้าตาโปรแกรมจะดูเก่าไปบ้าง แต่ฟังก์ชันครบและเสถียร โดยเฉพาะสำหรับพนักงานบัญชีหรือธุรกิจที่ไม่ต้องการระบบที่ซับซ้อนเกินไป\n",
        "\n",
        "วิธีใช้งานเบื้องต้น (Step-by-step สำหรับมือใหม่)\n",
        "1. ตั้งค่าระบบ :กำหนดชื่อบริษัท ปีบัญชี และรูปแบบภาษี,ตั้งรหัสบัญชีตามผังบัญชีที่ใช้\n",
        "2. เพิ่มข้อมูลพื้นฐาน :ลูกค้า/เจ้าหนี้, สินค้า/บริการหน่วยนับ/หมวดหมู่สินค้า\n",
        "3. บันทึกรายการ :ขายสินค้า/ออกใบกำกับภาษี, ซื้อสินค้า/บันทึกใบซื้อ, รับชำระ/จ่ายชำระ, บันทึกบัญชี(บัญชีแยกประเภท/Journal)\n",
        "4. ตรวจสอบ/ออกรายงาน :รายงานขาย, รายงานซื้อ, รายงานภาษีซื้อ/ภาษีขาย, งบทดลอง, งบกำไรขาดทุน, งบดุล\n",
        "\n",
        "เว็บไซต์ทางการของ Express Software Group\n",
        "เว็บไซต์: https://www.expresssoftwaregroup.com\n",
        "ดาวน์โหลดตัวติดตั้งโปรแกรม Express (มีเวอร์ชันทดลองให้ใช้งาน)\n",
        "เปิดไฟล์ติดตั้ง แล้วทำตามขั้นตอน Setup\n",
        "หลังติดตั้งเสร็จ จะมีหน้าจอให้กรอกข้อมูลบริษัท และเริ่มต้นใช้งาน"
      ],
      "metadata": {
        "id": "87HbihJvbVe7"
      }
    },
    {
      "cell_type": "code",
      "source": [
        "ll"
      ],
      "metadata": {
        "id": "qedGkTG7czqV"
      },
      "execution_count": null,
      "outputs": []
    },
    {
      "cell_type": "markdown",
      "source": [
        "# นำเข้าข้อมูลจากไดรฟ์"
      ],
      "metadata": {
        "id": "Z_i2UaKK1a6j"
      }
    },
    {
      "cell_type": "code",
      "source": [
        "from google.colab import drive\n",
        "drive.mount('/content/drive')"
      ],
      "metadata": {
        "id": "I0dOoGvD1bXK",
        "colab": {
          "base_uri": "https://localhost:8080/"
        },
        "outputId": "6526999e-dd1f-44af-c31a-b0cdfdf13250"
      },
      "execution_count": 1,
      "outputs": [
        {
          "output_type": "stream",
          "name": "stdout",
          "text": [
            "Mounted at /content/drive\n"
          ]
        }
      ]
    },
    {
      "cell_type": "markdown",
      "source": [
        "## จำลองการใช้งานและคำอธิบายเบื้องต้น"
      ],
      "metadata": {
        "id": "5iyuCOWOwWee"
      }
    },
    {
      "cell_type": "markdown",
      "source": [
        "Pandas\n",
        "- ช่วยให้การจัดการข้อมูล วิเคราะห์ข้อมูล เช่น อ่าน/เขียนไฟล์ CSV, Excel, SQL ฯลฯ, จัดเรียง/กรองข้อมูล, คำนวณค่าทางสถิติ, รวมกลุ่มข้อมูล (groupby), จัดการข้อมูลที่ขาดหาย (missing data)\n",
        "- ตารางข้อมูล"
      ],
      "metadata": {
        "id": "cmVERSHkssM3"
      }
    },
    {
      "cell_type": "code",
      "execution_count": null,
      "metadata": {
        "id": "9CYYEnILsjg2"
      },
      "outputs": [],
      "source": [
        "import pandas as pd\n",
        "df = pd.read_csv('data.csv')  # อ่านไฟล์ CSV มาเป็น DataFrame\n",
        "print(df.head())              # แสดงข้อมูล 5 แถวแรก"
      ]
    },
    {
      "cell_type": "markdown",
      "source": [
        "NumPy\n",
        "- เพื่อการคำนวณเชิงตัวเลขจำนวนมาก เช่น เวกเตอร์แมทริกซ์หรือข้อมูลเชิงคณิตศาสตร์ที่ต้องการความเร็วและประสิทธิภาพสูงกว่าการใช้ list ปกติใน Pythonม จัดการ array แบบหลายมิติ (ndarray), ฟังก์ชันคณิตศาสตร์ เช่น np.sin(), np.mean(), np.std(), การสุ่มข้อมูล (np.random), การทำงานร่วมกับ Pandas และไลบรารีอื่นๆ\n",
        "- การคำนวณตัวเลขดิบ"
      ],
      "metadata": {
        "id": "NxPfCIV_tMeH"
      }
    },
    {
      "cell_type": "code",
      "source": [
        "import numpy as np\n",
        "a = np.array([1, 2, 3])\n",
        "b = np.array([4, 5, 6])\n",
        "print(a + b)  # บวกแบบ element-wise ได้ทันที → [5 7 9]"
      ],
      "metadata": {
        "id": "YF-0SkzctYAj"
      },
      "execution_count": null,
      "outputs": []
    },
    {
      "cell_type": "markdown",
      "source": [
        "การสร้าง DecisionTreeClassifier\n",
        "- เพื่อสร้างโมเดลต้นไม้ตัดสินใจสำหรับ classification\n",
        "- จุดเด่นของ Decision Trees:อธิบายผลได้ง่าย (Interpretability), ไม่ต้องปรับ scale ของข้อมูล, ใช้งานได้ทั้งข้อมูลตัวเลขและหมวดหมู่\n",
        "- Classification (การจำแนกประเภท เช่น แยกอีเมลว่าเป็น spam หรือไม่)\n",
        "- #Regression (พยากรณ์ค่า เช่น คาดการณ์ราคาบ้าน)"
      ],
      "metadata": {
        "id": "YYAWh1mCtqpg"
      }
    },
    {
      "cell_type": "code",
      "source": [
        "from sklearn.tree import DecisionTreeClassifier\n",
        "clf = DecisionTreeClassifier() # สร้างโมเดลต้นไม้ตัดสินใจสำหรับ classification\n",
        "clf.fit(X_train, y_train) # ฝึกโมเดลด้วยข้อมูล\n",
        "predictions = clf.predict(X_test) # ทำนายผล\n",
        "\n",
        "#from sklearn.tree import DecisionTreeRegressor\n",
        "#reg = DecisionTreeRegressor()\n",
        "#reg.fit(X_train, y_train)"
      ],
      "metadata": {
        "id": "YcQ0dQbsvCcu"
      },
      "execution_count": null,
      "outputs": []
    },
    {
      "cell_type": "markdown",
      "source": [
        "การนำเข้าฟังก์ชันการวาดกราฟ\n",
        "- ชื่อย่อ plt\n",
        "- ใช้ทำอะไรได้บ้าง:วาดกราฟเส้น (line plot), สร้างแผนภูมิแท่ง (bar chart), สร้าง scatter plot (กราฟจุดกระจาย), วาด confusion matrix และ heatmap ฯลฯ"
      ],
      "metadata": {
        "id": "7zjBM6jIwa5W"
      }
    },
    {
      "cell_type": "code",
      "source": [
        "import matplotlib.pyplot as plt #หรือ from matplotlib import pyplot as plt\n",
        "x = [1, 2, 3, 4]\n",
        "y = [10, 20, 25, 30]\n",
        "plt.plot(x, y)\n",
        "plt.title(\"Example Graph\")\n",
        "plt.xlabel(\"x-axis\")\n",
        "plt.ylabel(\"y-axis\")\n",
        "plt.show()"
      ],
      "metadata": {
        "id": "N20jVg3pwqW0"
      },
      "execution_count": null,
      "outputs": []
    },
    {
      "cell_type": "markdown",
      "source": [
        "การวัดความแม่นยำของโมเดล ในการจำแนกประเภท (classification)\n",
        "- accuracy_score(y_true, y_pred) จะเปรียบเทียบผลที่โมเดลทำนาย (y_pred) กับคำตอบจริง (y_true) แล้วคืนค่าเป็น “เปอร์เซ็นต์ความถูกต้อง”"
      ],
      "metadata": {
        "id": "NZxSqpgtylzE"
      }
    },
    {
      "cell_type": "code",
      "source": [
        "from sklearn.metrics import accuracy_score\n",
        "y_true = [1, 0, 1, 1]\n",
        "y_pred = [1, 0, 0, 1]\n",
        "acc = accuracy_score(y_true, y_pred)\n",
        "print(f\"Accuracy: {acc:.2f}\")  # อาจได้ 0.75 หรือ 75%"
      ],
      "metadata": {
        "id": "aq6mo7Ruy5zm"
      },
      "execution_count": null,
      "outputs": []
    },
    {
      "cell_type": "markdown",
      "source": [
        "ติดตั้งไลบารี\n",
        "- ใช้ !pip install ตามด้วยชื่อไลบารีนั้น ๆ  เช่น !pip install apyori"
      ],
      "metadata": {
        "id": "FVztOlJ2zKUA"
      }
    },
    {
      "cell_type": "markdown",
      "source": [
        "การหากฎความสัมพันธ์ระหว่างรายการในชุดข้อมูล\n",
        "- เป็นอัลกอริธึมที่ใช้ค้นหา\n",
        "- นิยมใช้ในงาน Market Basket Analysis (การวิเคราะห์ตะกร้าสินค้า)\n",
        "- สามารถใช้ใน การวิเคราะห์พฤติกรรมลูกค้า (ขายของ, cross-sell, upsell), แนะนำสินค้าอัตโนมัติ (เช่น \"ลูกค้าที่ซื้อ A มักซื้อ B ด้วย\"), ค้นหาความสัมพันธ์ในข้อมูลที่มีลักษณะรายการ\n",
        "- เช่น ลูกค้าซื้อ นม มักจะซื้อขนมปังด้วย [ขนมปัง → นม (support: 0.4, confidence: 0.8, lift: 1.5)]"
      ],
      "metadata": {
        "id": "sqXUUZe00Gho"
      }
    },
    {
      "cell_type": "code",
      "source": [
        "!pip install apyori #ติดตั้ง\n",
        "from apyori import apriori #ใช้\n",
        "from apyori import apriori\n",
        "\n",
        "# ข้อมูลตัวอย่าง (รายการสินค้าแต่ละบิล)\n",
        "transactions = [\n",
        "    ['ขนมปัง', 'นม'],\n",
        "    ['ขนมปัง', 'ผัก', 'นม'],\n",
        "    ['นม', 'ไอติม'],\n",
        "    ['ขนมปัง', 'ไอติม'],\n",
        "    ['ผัก', 'นม']\n",
        "]\n",
        "# สร้าง association rules\n",
        "rules = apriori(transactions, min_support=0.2, min_confidence=0.5, min_lift=1.0)\n",
        "# แสดงผล\n",
        "results = list(rules)\n",
        "for rule in results:\n",
        "    print(rule)"
      ],
      "metadata": {
        "id": "0LMAko-C0ar5"
      },
      "execution_count": null,
      "outputs": []
    },
    {
      "cell_type": "markdown",
      "source": [
        "# Truck accident data"
      ],
      "metadata": {
        "id": "5v8zmM9_1SYu"
      }
    },
    {
      "cell_type": "markdown",
      "source": [
        "1. import install from สิ่งที่ต้องใช้ก่อน\n",
        "2. นำเข้าข้อมูลไฟล์ excel โดยใช้ pd(padas) และตั้งชื่อให้ชุดข้อมูล\n",
        "3. เลือกคอลัมล์ที่ต้องการ จาก new = old [[' ',' ',' ']] (ถ้ามี)"
      ],
      "metadata": {
        "id": "NJuWzX9A2slY"
      }
    },
    {
      "cell_type": "code",
      "source": [
        "data_truck = pd.read_excel('/content/drive/MyDrive/BSC_DPDM23_Data/Data_Truck-2.xlsx') #ชีทหน้าเดียว\n",
        "data_dict_truck = pd.read_excel('/content/drive/MyDrive/BSC_DPDM23_Data/Data_Truck-2.xlsx', sheet_name = 0) #ชีทหลายหน้า\n",
        "data60_col = data_2560[['Date','Time','Province','Loss','Party','Cause','Main cause of accidents']] #เลือกเฉพาะคอลัมน์ที่ต้องการ"
      ],
      "metadata": {
        "id": "bQpHhued2fOA"
      },
      "execution_count": null,
      "outputs": []
    },
    {
      "cell_type": "markdown",
      "source": [
        "4. เปลี่ยนข้อความในคอลัมล์ที่ต้องการเป็นภาษาอื่น ๆ หรือ ข้อความอื่น ๆ (ถ้ามี)\n",
        "- กำหนดตัวแปรให้ชัดเจน\n",
        "- ชื่อเดิม data60_col\n",
        "- ชื่อใหม่ data_truck_60\n",
        "- ชื่อที่ใช้ในDataFrame datamain60 (ยังงงอยู่)\n",
        "- คอลัมล์ที่ต้องการ Province"
      ],
      "metadata": {
        "id": "0H1r8TVA4H0v"
      }
    },
    {
      "cell_type": "code",
      "source": [
        "data_truck_60 = data60_col\n",
        "datamain60 = pd.DataFrame(data_truck_60)\n",
        "datamain60['Province'] = datamain60['Province'].apply(lambda x: x.strip())\n",
        "datamain60['Province'] = datamain60['Province'].replace({'เชียงใหม่': 'Chiang Mai','เชียงราย': 'Chiang Rai'})"
      ],
      "metadata": {
        "id": "CDhVQD7q4PkX"
      },
      "execution_count": null,
      "outputs": []
    },
    {
      "cell_type": "code",
      "source": [
        "data_truck_60.head() #เรียกดูหัวตาราง"
      ],
      "metadata": {
        "id": "dAbc5_aB3rUT"
      },
      "execution_count": null,
      "outputs": []
    },
    {
      "cell_type": "markdown",
      "source": [
        "5. แปลงข้อมูลให้เป็น string หมายถึงแปลงตัวเลขเป็นข้อความ (ถ้ามี)\n",
        "- string คือข้อความ\n",
        "- .astype(str)\n",
        "- ชื่อ data_truck_61\n",
        "- คอลัมล์ที่ต้องการ Party"
      ],
      "metadata": {
        "id": "Pe8DDb3m8q7p"
      }
    },
    {
      "cell_type": "code",
      "source": [
        "data_truck_61['Party'] = data_truck_61['Party'].astype(str)"
      ],
      "metadata": {
        "id": "9N-Sto4398Js"
      },
      "execution_count": null,
      "outputs": []
    },
    {
      "cell_type": "markdown",
      "source": [
        "6. วิธีทำให้เวลาเป็นช่วง เช่น12.25เป็น12.00-14.00\n",
        "7."
      ],
      "metadata": {
        "id": "BWeKEBkk_IoH"
      }
    },
    {
      "cell_type": "code",
      "source": [],
      "metadata": {
        "id": "5hINhu1Q_l__"
      },
      "execution_count": null,
      "outputs": []
    }
  ]
}